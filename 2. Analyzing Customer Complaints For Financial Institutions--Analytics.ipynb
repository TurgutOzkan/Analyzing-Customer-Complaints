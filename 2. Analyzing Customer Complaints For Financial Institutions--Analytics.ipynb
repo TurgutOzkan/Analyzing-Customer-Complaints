{
 "cells": [
  {
   "cell_type": "code",
   "execution_count": 1,
   "metadata": {},
   "outputs": [
    {
     "data": {
      "application/javascript": [
       "IPython.notebook.set_autosave_interval(20000)"
      ]
     },
     "metadata": {},
     "output_type": "display_data"
    },
    {
     "name": "stdout",
     "output_type": "stream",
     "text": [
      "Autosaving every 20 seconds\n"
     ]
    }
   ],
   "source": [
    "%matplotlib inline\n",
    "%autosave 20\n",
    "import numpy as np\n",
    "import pandas as pd\n",
    "from scipy import stats\n",
    "import matplotlib.pyplot as plt\n",
    "import seaborn as sns\n",
    "from sklearn.svm import LinearSVC\n",
    "from sklearn.linear_model import LogisticRegression\n",
    "from xgboost import XGBClassifier\n",
    "import sklearn.metrics as metrics\n",
    "from sklearn.model_selection import cross_val_score\n",
    "from sklearn.externals import joblib\n",
    "from sklearn.feature_extraction.text import TfidfVectorizer\n",
    "from sklearn.feature_extraction.text import TfidfTransformer\n",
    "from sklearn.model_selection import train_test_split\n",
    "from sklearn.feature_extraction.text import CountVectorizer\n",
    "from sklearn.model_selection import train_test_split\n",
    "from sklearn.preprocessing import StandardScaler\n",
    "from sklearn.metrics import confusion_matrix\n",
    "\n",
    "from datetime import datetime\n",
    "import nltk\n",
    "from textblob import TextBlob\n",
    "from nltk.tokenize import word_tokenize\n",
    "from nltk import sent_tokenize\n",
    "from bs4 import BeautifulSoup\n",
    "import itertools\n",
    "from nltk.stem.porter import PorterStemmer\n",
    "from nltk.corpus import stopwords\n",
    "from textblob import Word\n",
    "import re\n",
    "from autocorrect import spell\n",
    "from sqlalchemy import create_engine"
   ]
  },
  {
   "cell_type": "code",
   "execution_count": 2,
   "metadata": {},
   "outputs": [
    {
     "data": {
      "text/plain": [
       "(1104472, 18)"
      ]
     },
     "execution_count": 2,
     "metadata": {},
     "output_type": "execute_result"
    }
   ],
   "source": [
    "url=\"https://data.consumerfinance.gov/api/views/s6ew-h6mp/rows.csv?accessType=DOWNLOAD\"\n",
    "DATA = pd.read_csv(url)\n",
    "DATA.shape"
   ]
  },
  {
   "cell_type": "markdown",
   "metadata": {},
   "source": [
    "Changing Column Names and Creating Year, Month, and Day Variables"
   ]
  },
  {
   "cell_type": "code",
   "execution_count": 3,
   "metadata": {},
   "outputs": [
    {
     "data": {
      "text/plain": [
       "(1104472, 21)"
      ]
     },
     "execution_count": 3,
     "metadata": {},
     "output_type": "execute_result"
    }
   ],
   "source": [
    "DATA.rename(columns={\"Date received\": \"DATE\",\"Product\":\"PRODUCT\", \"Sub-product\":\"SUB_PRODUCT\", \"Issue\":\"ISSUE\", \"Sub-issue\":\"SUB_ISSUE\",\n",
    "\"Consumer complaint narrative\": \"NARRATIVE\",\"Company public response\": \"COMP_PUB_RESPONSE\", \"ZIP code\":\"ZIP\", \n",
    "\"Consumer consent provided?\":\"CONSENT\",\"Submitted via\":\"VIA\", \"Company response to consumer\":\"COMPANY_RESPONSE\",\n",
    "                     \"Timely response?\": \"TIMELY_RESPONSE\", \"Consumer disputed?\":\"CONSUMER_DISPUTED\",\n",
    "\"Complaint ID\":\"COMPLAINT_ID\"}, inplace=True)\n",
    "DATA.DATE=pd.to_datetime(DATA.DATE)\n",
    "DATA.sort_values(by=[\"DATE\"], inplace=True)\n",
    "DATA[\"YEAR\"]=DATA.DATE.dt.year\n",
    "DATA[\"Month\"]=DATA.DATE.dt.month\n",
    "DATA[\"DAY\"]=DATA.DATE.dt.day\n",
    "DATA.shape"
   ]
  },
  {
   "cell_type": "code",
   "execution_count": 4,
   "metadata": {},
   "outputs": [
    {
     "data": {
      "text/plain": [
       "Mortgage                                                                        262351\n",
       "Debt collection                                                                 212590\n",
       "Credit reporting, credit repair services, or other personal consumer reports    143898\n",
       "Credit reporting                                                                140433\n",
       "Credit card                                                                      89191\n",
       "Bank account or service                                                          86206\n",
       "Student loan                                                                     45691\n",
       "Consumer Loan                                                                    31605\n",
       "Credit card or prepaid card                                                      30598\n",
       "Checking or savings account                                                      25773\n",
       "Vehicle loan or lease                                                             7518\n",
       "Money transfer, virtual currency, or money service                                7161\n",
       "Payday loan, title loan, or personal loan                                         5660\n",
       "Payday loan                                                                       5546\n",
       "Money transfers                                                                   5354\n",
       "Prepaid card                                                                      3819\n",
       "Other financial service                                                           1060\n",
       "Virtual currency                                                                    18\n",
       "Name: PRODUCT, dtype: int64"
      ]
     },
     "execution_count": 4,
     "metadata": {},
     "output_type": "execute_result"
    }
   ],
   "source": [
    "DATA.PRODUCT.value_counts(dropna=False)"
   ]
  },
  {
   "cell_type": "markdown",
   "metadata": {},
   "source": [
    "# Reorganizing Product Types to Get a More Balanced Classification Problem"
   ]
  },
  {
   "cell_type": "code",
   "execution_count": 5,
   "metadata": {},
   "outputs": [
    {
     "data": {
      "text/plain": [
       "CREDIT_REPORT      284331\n",
       "MORTGAGE           262351\n",
       "DEBT_COLLECTION    212590\n",
       "SERVICE_RELATED    125572\n",
       "CARD_RELATED       123608\n",
       "LOAN_RELATED        96020\n",
       "Name: PRO_TYPE, dtype: int64"
      ]
     },
     "execution_count": 5,
     "metadata": {},
     "output_type": "execute_result"
    }
   ],
   "source": [
    "DATA.loc[DATA.PRODUCT==\"Payday loan, title loan, or personal loan\", \"PRO_TYPE\"]=\"LOAN_RELATED\"\n",
    "DATA.loc[DATA.PRODUCT==\"Payday loan\", \"PRO_TYPE\"]=\"LOAN_RELATED\"\n",
    "DATA.loc[DATA.PRODUCT==\"Vehicle loan or lease\",\"PRO_TYPE\"]=\"LOAN_RELATED\"\n",
    "DATA.loc[DATA.PRODUCT==\"Consumer Loan\",\"PRO_TYPE\"]=\"LOAN_RELATED\"\n",
    "DATA.loc[DATA.PRODUCT==\"Student loan\",\"PRO_TYPE\"]=\"LOAN_RELATED\"\n",
    "\n",
    "DATA.loc[DATA.PRODUCT==\"Credit reporting, credit repair services, or other personal consumer reports\",\"PRO_TYPE\"]=\"CREDIT_REPORT\"\n",
    "DATA.loc[DATA.PRODUCT==\"Credit reporting\", \"PRO_TYPE\"]=\"CREDIT_REPORT\"\n",
    "\n",
    "DATA.loc[DATA.PRODUCT==\"Credit card\",\"PRO_TYPE\"]=\"CARD_RELATED\"\n",
    "DATA.loc[DATA.PRODUCT==\"Credit card or prepaid card\", \"PRO_TYPE\"]=\"CARD_RELATED\"\n",
    "DATA.loc[DATA.PRODUCT==\"Prepaid card\", \"PRO_TYPE\"]=\"CARD_RELATED\"\n",
    "\n",
    "DATA.loc[DATA.PRODUCT==\"Mortgage\", \"PRO_TYPE\"]=\"MORTGAGE\"\n",
    "DATA.loc[(DATA.PRODUCT==\"Debt collection\") & (DATA.SUB_PRODUCT==\"Mortgage\"), \"PRO_TYPE\"]=\"MORTGAGE\"\n",
    "\n",
    "DATA.loc[DATA.PRODUCT==\"Bank account or service\", \"PRO_TYPE\"]=\"SERVICE_RELATED\"\n",
    "DATA.loc[DATA.PRODUCT==\"Virtual currency\", \"PRO_TYPE\"]=\"SERVICE_RELATED\"\n",
    "DATA.loc[DATA.PRODUCT==\"Other financial service\", \"PRO_TYPE\"]=\"SERVICE_RELATED\"\n",
    "DATA.loc[DATA.PRODUCT==\"Money transfers\", \"PRO_TYPE\"]=\"SERVICE_RELATED\"\n",
    "DATA.loc[DATA.PRODUCT==\"Money transfer, virtual currency, or money service\", \"PRO_TYPE\"]=\"SERVICE_RELATED\"\n",
    "DATA.loc[DATA.PRODUCT==\"Checking or savings account\", \"PRO_TYPE\"]=\"SERVICE_RELATED\"\n",
    "\n",
    "DATA.loc[DATA.PRODUCT==\"Debt collection\", \"PRO_TYPE\"]=\"DEBT_COLLECTION\"\n",
    "DATA.PRO_TYPE.value_counts(dropna=False)"
   ]
  },
  {
   "cell_type": "markdown",
   "metadata": {},
   "source": [
    "Getting Year Dummies"
   ]
  },
  {
   "cell_type": "code",
   "execution_count": 6,
   "metadata": {},
   "outputs": [],
   "source": [
    "for i in pd.get_dummies(DATA.YEAR,prefix=\"dum\").columns: # No NaNs\n",
    "    DATA[i]=pd.get_dummies(DATA.YEAR, prefix=\"dum\")[i]"
   ]
  },
  {
   "cell_type": "code",
   "execution_count": 7,
   "metadata": {},
   "outputs": [],
   "source": [
    "# Saving the full data before we start working on narrative-only part of the full dataset\n",
    "DATA.to_csv(\"DATA_8_23_18.csv\")"
   ]
  },
  {
   "cell_type": "code",
   "execution_count": 2,
   "metadata": {},
   "outputs": [
    {
     "name": "stderr",
     "output_type": "stream",
     "text": [
      "C:\\Users\\Turgut\\Anaconda3\\lib\\site-packages\\IPython\\core\\interactiveshell.py:2728: DtypeWarning: Columns (6,12,17) have mixed types. Specify dtype option on import or set low_memory=False.\n",
      "  interactivity=interactivity, compiler=compiler, result=result)\n"
     ]
    },
    {
     "name": "stdout",
     "output_type": "stream",
     "text": [
      "(1104472, 30)\n"
     ]
    },
    {
     "data": {
      "text/html": [
       "<div>\n",
       "<style scoped>\n",
       "    .dataframe tbody tr th:only-of-type {\n",
       "        vertical-align: middle;\n",
       "    }\n",
       "\n",
       "    .dataframe tbody tr th {\n",
       "        vertical-align: top;\n",
       "    }\n",
       "\n",
       "    .dataframe thead th {\n",
       "        text-align: right;\n",
       "    }\n",
       "</style>\n",
       "<table border=\"1\" class=\"dataframe\">\n",
       "  <thead>\n",
       "    <tr style=\"text-align: right;\">\n",
       "      <th></th>\n",
       "      <th>DATE</th>\n",
       "      <th>PRODUCT</th>\n",
       "      <th>SUB_PRODUCT</th>\n",
       "      <th>ISSUE</th>\n",
       "      <th>SUB_ISSUE</th>\n",
       "      <th>NARRATIVE</th>\n",
       "      <th>COMP_PUB_RESPONSE</th>\n",
       "      <th>Company</th>\n",
       "      <th>State</th>\n",
       "      <th>ZIP</th>\n",
       "      <th>...</th>\n",
       "      <th>DAY</th>\n",
       "      <th>PRO_TYPE</th>\n",
       "      <th>dum_2011</th>\n",
       "      <th>dum_2012</th>\n",
       "      <th>dum_2013</th>\n",
       "      <th>dum_2014</th>\n",
       "      <th>dum_2015</th>\n",
       "      <th>dum_2016</th>\n",
       "      <th>dum_2017</th>\n",
       "      <th>dum_2018</th>\n",
       "    </tr>\n",
       "  </thead>\n",
       "  <tbody>\n",
       "    <tr>\n",
       "      <th>0</th>\n",
       "      <td>2011-12-01</td>\n",
       "      <td>Mortgage</td>\n",
       "      <td>Reverse mortgage</td>\n",
       "      <td>Loan servicing, payments, escrow account</td>\n",
       "      <td>NaN</td>\n",
       "      <td>NaN</td>\n",
       "      <td>NaN</td>\n",
       "      <td>WELLS FARGO &amp; COMPANY</td>\n",
       "      <td>OH</td>\n",
       "      <td>43209</td>\n",
       "      <td>...</td>\n",
       "      <td>1</td>\n",
       "      <td>MORTGAGE</td>\n",
       "      <td>1</td>\n",
       "      <td>0</td>\n",
       "      <td>0</td>\n",
       "      <td>0</td>\n",
       "      <td>0</td>\n",
       "      <td>0</td>\n",
       "      <td>0</td>\n",
       "      <td>0</td>\n",
       "    </tr>\n",
       "    <tr>\n",
       "      <th>1</th>\n",
       "      <td>2011-12-01</td>\n",
       "      <td>Credit card</td>\n",
       "      <td>NaN</td>\n",
       "      <td>Identity theft / Fraud / Embezzlement</td>\n",
       "      <td>NaN</td>\n",
       "      <td>NaN</td>\n",
       "      <td>NaN</td>\n",
       "      <td>CAPITAL ONE FINANCIAL CORPORATION</td>\n",
       "      <td>NY</td>\n",
       "      <td>14224</td>\n",
       "      <td>...</td>\n",
       "      <td>1</td>\n",
       "      <td>CARD_RELATED</td>\n",
       "      <td>1</td>\n",
       "      <td>0</td>\n",
       "      <td>0</td>\n",
       "      <td>0</td>\n",
       "      <td>0</td>\n",
       "      <td>0</td>\n",
       "      <td>0</td>\n",
       "      <td>0</td>\n",
       "    </tr>\n",
       "    <tr>\n",
       "      <th>2</th>\n",
       "      <td>2011-12-01</td>\n",
       "      <td>Credit card</td>\n",
       "      <td>NaN</td>\n",
       "      <td>Other</td>\n",
       "      <td>NaN</td>\n",
       "      <td>NaN</td>\n",
       "      <td>NaN</td>\n",
       "      <td>BANK OF AMERICA, NATIONAL ASSOCIATION</td>\n",
       "      <td>CA</td>\n",
       "      <td>90032</td>\n",
       "      <td>...</td>\n",
       "      <td>1</td>\n",
       "      <td>CARD_RELATED</td>\n",
       "      <td>1</td>\n",
       "      <td>0</td>\n",
       "      <td>0</td>\n",
       "      <td>0</td>\n",
       "      <td>0</td>\n",
       "      <td>0</td>\n",
       "      <td>0</td>\n",
       "      <td>0</td>\n",
       "    </tr>\n",
       "  </tbody>\n",
       "</table>\n",
       "<p>3 rows × 30 columns</p>\n",
       "</div>"
      ],
      "text/plain": [
       "         DATE      PRODUCT       SUB_PRODUCT  \\\n",
       "0  2011-12-01     Mortgage  Reverse mortgage   \n",
       "1  2011-12-01  Credit card               NaN   \n",
       "2  2011-12-01  Credit card               NaN   \n",
       "\n",
       "                                      ISSUE SUB_ISSUE NARRATIVE  \\\n",
       "0  Loan servicing, payments, escrow account       NaN       NaN   \n",
       "1     Identity theft / Fraud / Embezzlement       NaN       NaN   \n",
       "2                                     Other       NaN       NaN   \n",
       "\n",
       "  COMP_PUB_RESPONSE                                Company State    ZIP  \\\n",
       "0               NaN                  WELLS FARGO & COMPANY    OH  43209   \n",
       "1               NaN      CAPITAL ONE FINANCIAL CORPORATION    NY  14224   \n",
       "2               NaN  BANK OF AMERICA, NATIONAL ASSOCIATION    CA  90032   \n",
       "\n",
       "     ...    DAY      PRO_TYPE dum_2011 dum_2012 dum_2013 dum_2014 dum_2015  \\\n",
       "0    ...      1      MORTGAGE        1        0        0        0        0   \n",
       "1    ...      1  CARD_RELATED        1        0        0        0        0   \n",
       "2    ...      1  CARD_RELATED        1        0        0        0        0   \n",
       "\n",
       "   dum_2016  dum_2017  dum_2018  \n",
       "0         0         0         0  \n",
       "1         0         0         0  \n",
       "2         0         0         0  \n",
       "\n",
       "[3 rows x 30 columns]"
      ]
     },
     "execution_count": 2,
     "metadata": {},
     "output_type": "execute_result"
    }
   ],
   "source": [
    "DATA=pd.read_csv(\"DATA_8_23_18.csv\")\n",
    "DATA=DATA.drop(\"Unnamed: 0\", axis=1)\n",
    "print(DATA.shape)\n",
    "DATA.head(3)"
   ]
  },
  {
   "cell_type": "code",
   "execution_count": 3,
   "metadata": {},
   "outputs": [
    {
     "data": {
      "text/plain": [
       "(314136, 30)"
      ]
     },
     "execution_count": 3,
     "metadata": {},
     "output_type": "execute_result"
    }
   ],
   "source": [
    "# Creating a subset of full data that contains narratives\n",
    "DATA_N=DATA[DATA.NARRATIVE.notnull()]\n",
    "DATA_N.shape"
   ]
  },
  {
   "cell_type": "markdown",
   "metadata": {},
   "source": [
    "# Cleaning the Narratives"
   ]
  },
  {
   "cell_type": "code",
   "execution_count": 4,
   "metadata": {},
   "outputs": [
    {
     "name": "stderr",
     "output_type": "stream",
     "text": [
      "C:\\Users\\Turgut\\Anaconda3\\lib\\site-packages\\ipykernel_launcher.py:1: SettingWithCopyWarning: \n",
      "A value is trying to be set on a copy of a slice from a DataFrame.\n",
      "Try using .loc[row_indexer,col_indexer] = value instead\n",
      "\n",
      "See the caveats in the documentation: http://pandas.pydata.org/pandas-docs/stable/indexing.html#indexing-view-versus-copy\n",
      "  \"\"\"Entry point for launching an IPython kernel.\n",
      "C:\\Users\\Turgut\\Anaconda3\\lib\\site-packages\\ipykernel_launcher.py:2: SettingWithCopyWarning: \n",
      "A value is trying to be set on a copy of a slice from a DataFrame.\n",
      "Try using .loc[row_indexer,col_indexer] = value instead\n",
      "\n",
      "See the caveats in the documentation: http://pandas.pydata.org/pandas-docs/stable/indexing.html#indexing-view-versus-copy\n",
      "  \n",
      "C:\\Users\\Turgut\\Anaconda3\\lib\\site-packages\\ipykernel_launcher.py:3: SettingWithCopyWarning: \n",
      "A value is trying to be set on a copy of a slice from a DataFrame.\n",
      "Try using .loc[row_indexer,col_indexer] = value instead\n",
      "\n",
      "See the caveats in the documentation: http://pandas.pydata.org/pandas-docs/stable/indexing.html#indexing-view-versus-copy\n",
      "  This is separate from the ipykernel package so we can avoid doing imports until\n",
      "C:\\Users\\Turgut\\Anaconda3\\lib\\site-packages\\ipykernel_launcher.py:4: SettingWithCopyWarning: \n",
      "A value is trying to be set on a copy of a slice from a DataFrame.\n",
      "Try using .loc[row_indexer,col_indexer] = value instead\n",
      "\n",
      "See the caveats in the documentation: http://pandas.pydata.org/pandas-docs/stable/indexing.html#indexing-view-versus-copy\n",
      "  after removing the cwd from sys.path.\n",
      "C:\\Users\\Turgut\\Anaconda3\\lib\\site-packages\\ipykernel_launcher.py:5: SettingWithCopyWarning: \n",
      "A value is trying to be set on a copy of a slice from a DataFrame.\n",
      "Try using .loc[row_indexer,col_indexer] = value instead\n",
      "\n",
      "See the caveats in the documentation: http://pandas.pydata.org/pandas-docs/stable/indexing.html#indexing-view-versus-copy\n",
      "  \"\"\"\n",
      "C:\\Users\\Turgut\\Anaconda3\\lib\\site-packages\\ipykernel_launcher.py:6: SettingWithCopyWarning: \n",
      "A value is trying to be set on a copy of a slice from a DataFrame.\n",
      "Try using .loc[row_indexer,col_indexer] = value instead\n",
      "\n",
      "See the caveats in the documentation: http://pandas.pydata.org/pandas-docs/stable/indexing.html#indexing-view-versus-copy\n",
      "  \n",
      "C:\\Users\\Turgut\\Anaconda3\\lib\\site-packages\\ipykernel_launcher.py:7: SettingWithCopyWarning: \n",
      "A value is trying to be set on a copy of a slice from a DataFrame.\n",
      "Try using .loc[row_indexer,col_indexer] = value instead\n",
      "\n",
      "See the caveats in the documentation: http://pandas.pydata.org/pandas-docs/stable/indexing.html#indexing-view-versus-copy\n",
      "  import sys\n",
      "C:\\Users\\Turgut\\Anaconda3\\lib\\site-packages\\ipykernel_launcher.py:8: SettingWithCopyWarning: \n",
      "A value is trying to be set on a copy of a slice from a DataFrame.\n",
      "Try using .loc[row_indexer,col_indexer] = value instead\n",
      "\n",
      "See the caveats in the documentation: http://pandas.pydata.org/pandas-docs/stable/indexing.html#indexing-view-versus-copy\n",
      "  \n",
      "C:\\Users\\Turgut\\Anaconda3\\lib\\site-packages\\ipykernel_launcher.py:9: SettingWithCopyWarning: \n",
      "A value is trying to be set on a copy of a slice from a DataFrame.\n",
      "Try using .loc[row_indexer,col_indexer] = value instead\n",
      "\n",
      "See the caveats in the documentation: http://pandas.pydata.org/pandas-docs/stable/indexing.html#indexing-view-versus-copy\n",
      "  if __name__ == '__main__':\n",
      "C:\\Users\\Turgut\\Anaconda3\\lib\\site-packages\\ipykernel_launcher.py:10: SettingWithCopyWarning: \n",
      "A value is trying to be set on a copy of a slice from a DataFrame.\n",
      "Try using .loc[row_indexer,col_indexer] = value instead\n",
      "\n",
      "See the caveats in the documentation: http://pandas.pydata.org/pandas-docs/stable/indexing.html#indexing-view-versus-copy\n",
      "  # Remove the CWD from sys.path while we load stuff.\n",
      "C:\\Users\\Turgut\\Anaconda3\\lib\\site-packages\\ipykernel_launcher.py:11: SettingWithCopyWarning: \n",
      "A value is trying to be set on a copy of a slice from a DataFrame.\n",
      "Try using .loc[row_indexer,col_indexer] = value instead\n",
      "\n",
      "See the caveats in the documentation: http://pandas.pydata.org/pandas-docs/stable/indexing.html#indexing-view-versus-copy\n",
      "  # This is added back by InteractiveShellApp.init_path()\n"
     ]
    }
   ],
   "source": [
    "DATA_N['NARRATIVE_CLEAN'] = DATA_N['NARRATIVE'].apply(lambda x: \" \".join(x.replace(\"XXXX\", \"\") for x in x.split()))\n",
    "DATA_N['NARRATIVE_CLEAN'] = DATA_N['NARRATIVE_CLEAN'].apply(lambda x: \" \".join(x.replace(\"XX/XX/\", \"\") for x in x.split()))\n",
    "DATA_N['NARRATIVE_CLEAN'] = DATA_N['NARRATIVE_CLEAN'].apply(lambda x: \" \".join(x.replace(\"(  )\", \"\") for x in x.split()))\n",
    "DATA_N['NARRATIVE_CLEAN'] = DATA_N['NARRATIVE_CLEAN'].apply(lambda x: \" \".join(x.replace(\"  \", \"\") for x in x.split()))\n",
    "DATA_N['NARRATIVE_CLEAN'] = DATA_N['NARRATIVE_CLEAN'].apply(lambda x: \" \".join(x.replace(\",,\", \",\") for x in x.split()))\n",
    "DATA_N['NARRATIVE_CLEAN'] = DATA_N['NARRATIVE_CLEAN'].apply(lambda x: \" \".join(x.replace(\"...\", \".\") for x in x.split()))\n",
    "DATA_N['NARRATIVE_CLEAN'] = DATA_N['NARRATIVE_CLEAN'].apply(lambda x: \" \".join(x.replace(\"\\r\\n\", \"\") for x in x.split()))\n",
    "DATA_N['NARRATIVE_CLEAN'] = DATA_N['NARRATIVE_CLEAN'].apply(lambda x: \" \".join(x.replace(\"//\", \"\") for x in x.split()))\n",
    "DATA_N['NARRATIVE_CLEAN'] = DATA_N['NARRATIVE_CLEAN'].apply(lambda x: \" \".join(x.replace(\"(\", \"\") for x in x.split()))\n",
    "DATA_N['NARRATIVE_CLEAN'] = DATA_N['NARRATIVE_CLEAN'].apply(lambda x: \" \".join(x.replace(\")\", \"\") for x in x.split()))\n",
    "DATA_N['NARRATIVE_CLEAN']=DATA_N['NARRATIVE_CLEAN'].apply(lambda x: \" \".join(x.replace(\",\", \"\") for x in x.split()))"
   ]
  },
  {
   "cell_type": "markdown",
   "metadata": {},
   "source": [
    "# Getting Sentiments BEFORE Removing Sentiment-related Words"
   ]
  },
  {
   "cell_type": "code",
   "execution_count": 5,
   "metadata": {},
   "outputs": [
    {
     "name": "stderr",
     "output_type": "stream",
     "text": [
      "C:\\Users\\Turgut\\Anaconda3\\lib\\site-packages\\ipykernel_launcher.py:1: SettingWithCopyWarning: \n",
      "A value is trying to be set on a copy of a slice from a DataFrame.\n",
      "Try using .loc[row_indexer,col_indexer] = value instead\n",
      "\n",
      "See the caveats in the documentation: http://pandas.pydata.org/pandas-docs/stable/indexing.html#indexing-view-versus-copy\n",
      "  \"\"\"Entry point for launching an IPython kernel.\n",
      "C:\\Users\\Turgut\\Anaconda3\\lib\\site-packages\\ipykernel_launcher.py:2: SettingWithCopyWarning: \n",
      "A value is trying to be set on a copy of a slice from a DataFrame.\n",
      "Try using .loc[row_indexer,col_indexer] = value instead\n",
      "\n",
      "See the caveats in the documentation: http://pandas.pydata.org/pandas-docs/stable/indexing.html#indexing-view-versus-copy\n",
      "  \n",
      "C:\\Users\\Turgut\\Anaconda3\\lib\\site-packages\\ipykernel_launcher.py:3: SettingWithCopyWarning: \n",
      "A value is trying to be set on a copy of a slice from a DataFrame.\n",
      "Try using .loc[row_indexer,col_indexer] = value instead\n",
      "\n",
      "See the caveats in the documentation: http://pandas.pydata.org/pandas-docs/stable/indexing.html#indexing-view-versus-copy\n",
      "  This is separate from the ipykernel package so we can avoid doing imports until\n"
     ]
    }
   ],
   "source": [
    "DATA_N['SENTIMENT_BEFORE_LEM'] = DATA_N['NARRATIVE_CLEAN'].apply(lambda i: TextBlob(i).sentiment)\n",
    "DATA_N['SENTIMENT_BEFORE_LEM_P'] = DATA_N['NARRATIVE_CLEAN'].apply(lambda i: TextBlob(i).sentiment.polarity)\n",
    "DATA_N['SENTIMENT_BEFORE_LEM_S'] = DATA_N['NARRATIVE_CLEAN'].apply(lambda i: TextBlob(i).sentiment.subjectivity)"
   ]
  },
  {
   "cell_type": "code",
   "execution_count": 6,
   "metadata": {},
   "outputs": [
    {
     "name": "stderr",
     "output_type": "stream",
     "text": [
      "C:\\Users\\Turgut\\Anaconda3\\lib\\site-packages\\ipykernel_launcher.py:2: SettingWithCopyWarning: \n",
      "A value is trying to be set on a copy of a slice from a DataFrame.\n",
      "Try using .loc[row_indexer,col_indexer] = value instead\n",
      "\n",
      "See the caveats in the documentation: http://pandas.pydata.org/pandas-docs/stable/indexing.html#indexing-view-versus-copy\n",
      "  \n",
      "C:\\Users\\Turgut\\Anaconda3\\lib\\site-packages\\ipykernel_launcher.py:4: SettingWithCopyWarning: \n",
      "A value is trying to be set on a copy of a slice from a DataFrame.\n",
      "Try using .loc[row_indexer,col_indexer] = value instead\n",
      "\n",
      "See the caveats in the documentation: http://pandas.pydata.org/pandas-docs/stable/indexing.html#indexing-view-versus-copy\n",
      "  after removing the cwd from sys.path.\n",
      "C:\\Users\\Turgut\\Anaconda3\\lib\\site-packages\\ipykernel_launcher.py:8: SettingWithCopyWarning: \n",
      "A value is trying to be set on a copy of a slice from a DataFrame.\n",
      "Try using .loc[row_indexer,col_indexer] = value instead\n",
      "\n",
      "See the caveats in the documentation: http://pandas.pydata.org/pandas-docs/stable/indexing.html#indexing-view-versus-copy\n",
      "  \n",
      "C:\\Users\\Turgut\\Anaconda3\\lib\\site-packages\\ipykernel_launcher.py:10: SettingWithCopyWarning: \n",
      "A value is trying to be set on a copy of a slice from a DataFrame.\n",
      "Try using .loc[row_indexer,col_indexer] = value instead\n",
      "\n",
      "See the caveats in the documentation: http://pandas.pydata.org/pandas-docs/stable/indexing.html#indexing-view-versus-copy\n",
      "  # Remove the CWD from sys.path while we load stuff.\n",
      "C:\\Users\\Turgut\\Anaconda3\\lib\\site-packages\\ipykernel_launcher.py:12: SettingWithCopyWarning: \n",
      "A value is trying to be set on a copy of a slice from a DataFrame.\n",
      "Try using .loc[row_indexer,col_indexer] = value instead\n",
      "\n",
      "See the caveats in the documentation: http://pandas.pydata.org/pandas-docs/stable/indexing.html#indexing-view-versus-copy\n",
      "  if sys.path[0] == '':\n",
      "C:\\Users\\Turgut\\Anaconda3\\lib\\site-packages\\ipykernel_launcher.py:14: SettingWithCopyWarning: \n",
      "A value is trying to be set on a copy of a slice from a DataFrame.\n",
      "Try using .loc[row_indexer,col_indexer] = value instead\n",
      "\n",
      "See the caveats in the documentation: http://pandas.pydata.org/pandas-docs/stable/indexing.html#indexing-view-versus-copy\n",
      "  \n",
      "C:\\Users\\Turgut\\Anaconda3\\lib\\site-packages\\ipykernel_launcher.py:16: SettingWithCopyWarning: \n",
      "A value is trying to be set on a copy of a slice from a DataFrame.\n",
      "Try using .loc[row_indexer,col_indexer] = value instead\n",
      "\n",
      "See the caveats in the documentation: http://pandas.pydata.org/pandas-docs/stable/indexing.html#indexing-view-versus-copy\n",
      "  app.launch_new_instance()\n",
      "C:\\Users\\Turgut\\Anaconda3\\lib\\site-packages\\ipykernel_launcher.py:18: SettingWithCopyWarning: \n",
      "A value is trying to be set on a copy of a slice from a DataFrame.\n",
      "Try using .loc[row_indexer,col_indexer] = value instead\n",
      "\n",
      "See the caveats in the documentation: http://pandas.pydata.org/pandas-docs/stable/indexing.html#indexing-view-versus-copy\n"
     ]
    },
    {
     "data": {
      "text/plain": [
       "369808    debt collector call numer time privat number c...\n",
       "369811    compani continu report credit report sent lett...\n",
       "369813    mail sever complaint differ address compani we...\n",
       "369817    reach howev never got respons unfortun victim ...\n",
       "369820    mel harri assoc use decept collect practic att...\n",
       "369827    receiv letter pioneer credit recoveri claim ow...\n",
       "369832    credit card account holder chase card card acc...\n",
       "369838    fell behind payment back  follow realli unreas...\n",
       "Name: NARRATIVE_CLEAN, dtype: object"
      ]
     },
     "execution_count": 6,
     "metadata": {},
     "output_type": "execute_result"
    }
   ],
   "source": [
    "# Lower all the letters\n",
    "DATA_N['NARRATIVE_CLEAN'] = DATA_N['NARRATIVE_CLEAN'].apply(lambda x: \" \".join(x.lower() for x in x.split()))\n",
    "#Remove Punctuation\n",
    "DATA_N['NARRATIVE_CLEAN'] = DATA_N['NARRATIVE_CLEAN'].str.replace('[^\\w\\s]','')\n",
    "#Removal of Stop Words\n",
    "from nltk.corpus import stopwords\n",
    "stop = stopwords.words('english')\n",
    "DATA_N['NARRATIVE_CLEAN'] = DATA_N['NARRATIVE_CLEAN'].apply(lambda x: \" \".join(x for x in x.split() if x not in stop))\n",
    "# Excluding short words--one letter\n",
    "DATA_N['NARRATIVE_CLEAN'] = DATA_N['NARRATIVE_CLEAN'].apply(lambda x: \" \".join(x for x in x.split() if len(x) >2))\n",
    "# Removing erroneously combined words by checking word length\n",
    "DATA_N['NARRATIVE_CLEAN']=DATA_N['NARRATIVE_CLEAN'].apply(lambda x: \" \".join(x for x in x.split() if len(x) <15))\n",
    "#Lemmatization--\n",
    "DATA_N['NARRATIVE_CLEAN'] = DATA_N['NARRATIVE_CLEAN'].apply(lambda x: \" \".join([Word(word).lemmatize() for word in x.split()]))\n",
    "#stemmatization\n",
    "DATA_N['NARRATIVE_CLEAN'] = DATA_N['NARRATIVE_CLEAN'].apply(lambda x: \" \".join([PorterStemmer().stem(word) for word in x.split()]))\n",
    "#remove all numbers\n",
    "DATA_N['NARRATIVE_CLEAN']=DATA_N['NARRATIVE_CLEAN'].str.replace('\\d+', '')\n",
    "DATA_N['NARRATIVE_CLEAN'].head(8)"
   ]
  },
  {
   "cell_type": "markdown",
   "metadata": {},
   "source": [
    "# Tokenization"
   ]
  },
  {
   "cell_type": "markdown",
   "metadata": {},
   "source": [
    "We will work on narratives so it is more efficient to work only on a subset of overall dataset, which contains narratives."
   ]
  },
  {
   "cell_type": "code",
   "execution_count": 7,
   "metadata": {},
   "outputs": [
    {
     "name": "stderr",
     "output_type": "stream",
     "text": [
      "C:\\Users\\Turgut\\Anaconda3\\lib\\site-packages\\ipykernel_launcher.py:1: SettingWithCopyWarning: \n",
      "A value is trying to be set on a copy of a slice from a DataFrame.\n",
      "Try using .loc[row_indexer,col_indexer] = value instead\n",
      "\n",
      "See the caveats in the documentation: http://pandas.pydata.org/pandas-docs/stable/indexing.html#indexing-view-versus-copy\n",
      "  \"\"\"Entry point for launching an IPython kernel.\n"
     ]
    },
    {
     "data": {
      "text/plain": [
       "369808    [debt, collector, call, numer, time, privat, n...\n",
       "369811    [compani, continu, report, credit, report, sen...\n",
       "369813    [mail, sever, complaint, differ, address, comp...\n",
       "369817    [reach, howev, never, got, respons, unfortun, ...\n",
       "369820    [mel, harri, assoc, use, decept, collect, prac...\n",
       "Name: TOKENS, dtype: object"
      ]
     },
     "execution_count": 7,
     "metadata": {},
     "output_type": "execute_result"
    }
   ],
   "source": [
    "DATA_N[\"TOKENS\"]=DATA_N['NARRATIVE_CLEAN'].apply(word_tokenize)\n",
    "DATA_N[\"TOKENS\"].head()"
   ]
  },
  {
   "cell_type": "code",
   "execution_count": 9,
   "metadata": {},
   "outputs": [
    {
     "data": {
      "text/plain": [
       "['DATA_N_TOKENS.joblib']"
      ]
     },
     "execution_count": 9,
     "metadata": {},
     "output_type": "execute_result"
    }
   ],
   "source": [
    "#Save tokens as pickle.\n",
    "joblib.dump(DATA_N.TOKENS, \"DATA_N_TOKENS.joblib\")"
   ]
  },
  {
   "cell_type": "markdown",
   "metadata": {},
   "source": [
    "# Adding more features- word count, character count, numeric count, and uppercase letters"
   ]
  },
  {
   "cell_type": "code",
   "execution_count": 8,
   "metadata": {},
   "outputs": [
    {
     "name": "stderr",
     "output_type": "stream",
     "text": [
      "C:\\Users\\Turgut\\Anaconda3\\lib\\site-packages\\ipykernel_launcher.py:1: SettingWithCopyWarning: \n",
      "A value is trying to be set on a copy of a slice from a DataFrame.\n",
      "Try using .loc[row_indexer,col_indexer] = value instead\n",
      "\n",
      "See the caveats in the documentation: http://pandas.pydata.org/pandas-docs/stable/indexing.html#indexing-view-versus-copy\n",
      "  \"\"\"Entry point for launching an IPython kernel.\n",
      "C:\\Users\\Turgut\\Anaconda3\\lib\\site-packages\\ipykernel_launcher.py:2: SettingWithCopyWarning: \n",
      "A value is trying to be set on a copy of a slice from a DataFrame.\n",
      "Try using .loc[row_indexer,col_indexer] = value instead\n",
      "\n",
      "See the caveats in the documentation: http://pandas.pydata.org/pandas-docs/stable/indexing.html#indexing-view-versus-copy\n",
      "  \n",
      "C:\\Users\\Turgut\\Anaconda3\\lib\\site-packages\\ipykernel_launcher.py:3: SettingWithCopyWarning: \n",
      "A value is trying to be set on a copy of a slice from a DataFrame.\n",
      "Try using .loc[row_indexer,col_indexer] = value instead\n",
      "\n",
      "See the caveats in the documentation: http://pandas.pydata.org/pandas-docs/stable/indexing.html#indexing-view-versus-copy\n",
      "  This is separate from the ipykernel package so we can avoid doing imports until\n",
      "C:\\Users\\Turgut\\Anaconda3\\lib\\site-packages\\ipykernel_launcher.py:4: SettingWithCopyWarning: \n",
      "A value is trying to be set on a copy of a slice from a DataFrame.\n",
      "Try using .loc[row_indexer,col_indexer] = value instead\n",
      "\n",
      "See the caveats in the documentation: http://pandas.pydata.org/pandas-docs/stable/indexing.html#indexing-view-versus-copy\n",
      "  after removing the cwd from sys.path.\n",
      "C:\\Users\\Turgut\\Anaconda3\\lib\\site-packages\\ipykernel_launcher.py:5: SettingWithCopyWarning: \n",
      "A value is trying to be set on a copy of a slice from a DataFrame.\n",
      "Try using .loc[row_indexer,col_indexer] = value instead\n",
      "\n",
      "See the caveats in the documentation: http://pandas.pydata.org/pandas-docs/stable/indexing.html#indexing-view-versus-copy\n",
      "  \"\"\"\n"
     ]
    },
    {
     "data": {
      "text/html": [
       "<div>\n",
       "<style scoped>\n",
       "    .dataframe tbody tr th:only-of-type {\n",
       "        vertical-align: middle;\n",
       "    }\n",
       "\n",
       "    .dataframe tbody tr th {\n",
       "        vertical-align: top;\n",
       "    }\n",
       "\n",
       "    .dataframe thead th {\n",
       "        text-align: right;\n",
       "    }\n",
       "</style>\n",
       "<table border=\"1\" class=\"dataframe\">\n",
       "  <thead>\n",
       "    <tr style=\"text-align: right;\">\n",
       "      <th></th>\n",
       "      <th>WORD_COUNT</th>\n",
       "      <th>NUMERIC_COUNT</th>\n",
       "      <th>CHAR_COUNT</th>\n",
       "      <th>UPPER</th>\n",
       "      <th>EXCLAMATION_COUNT</th>\n",
       "    </tr>\n",
       "  </thead>\n",
       "  <tbody>\n",
       "    <tr>\n",
       "      <th>369808</th>\n",
       "      <td>45</td>\n",
       "      <td>1</td>\n",
       "      <td>265</td>\n",
       "      <td>3</td>\n",
       "      <td>0</td>\n",
       "    </tr>\n",
       "    <tr>\n",
       "      <th>369811</th>\n",
       "      <td>41</td>\n",
       "      <td>0</td>\n",
       "      <td>262</td>\n",
       "      <td>28</td>\n",
       "      <td>4</td>\n",
       "    </tr>\n",
       "    <tr>\n",
       "      <th>369813</th>\n",
       "      <td>70</td>\n",
       "      <td>0</td>\n",
       "      <td>454</td>\n",
       "      <td>9</td>\n",
       "      <td>0</td>\n",
       "    </tr>\n",
       "  </tbody>\n",
       "</table>\n",
       "</div>"
      ],
      "text/plain": [
       "        WORD_COUNT  NUMERIC_COUNT  CHAR_COUNT  UPPER  EXCLAMATION_COUNT\n",
       "369808          45              1         265      3                  0\n",
       "369811          41              0         262     28                  4\n",
       "369813          70              0         454      9                  0"
      ]
     },
     "execution_count": 8,
     "metadata": {},
     "output_type": "execute_result"
    }
   ],
   "source": [
    "DATA_N['WORD_COUNT'] = DATA_N['NARRATIVE_CLEAN'].apply(lambda x: len(str(x).split(\" \")))\n",
    "DATA_N['NUMERIC_COUNT'] = DATA_N['NARRATIVE'].apply(lambda x: len([x for x in x.split() if x.isdigit()]))\n",
    "DATA_N['CHAR_COUNT'] = DATA_N[\"NARRATIVE_CLEAN\"].str.len() ## this also includes spaces\n",
    "DATA_N['UPPER']= DATA_N['NARRATIVE'].apply(lambda x: len([x for x in x.split() if x.isupper()]))\n",
    "DATA_N[\"EXCLAMATION_COUNT\"]=DATA_N['NARRATIVE'].apply(lambda x: x.count('!'))\n",
    "DATA_N[['WORD_COUNT', 'NUMERIC_COUNT', 'CHAR_COUNT', 'UPPER', \"EXCLAMATION_COUNT\"]].head(3)"
   ]
  },
  {
   "cell_type": "code",
   "execution_count": 13,
   "metadata": {},
   "outputs": [
    {
     "data": {
      "text/plain": [
       "str"
      ]
     },
     "execution_count": 13,
     "metadata": {},
     "output_type": "execute_result"
    }
   ],
   "source": [
    "type(DATA_N[\"TOKENS\"][369808][2])"
   ]
  },
  {
   "cell_type": "code",
   "execution_count": 11,
   "metadata": {},
   "outputs": [
    {
     "data": {
      "text/plain": [
       "'debt'"
      ]
     },
     "execution_count": 11,
     "metadata": {},
     "output_type": "execute_result"
    }
   ],
   "source": [
    "DATA_N[\"TOKENS\"][369808][0]"
   ]
  },
  {
   "cell_type": "code",
   "execution_count": 14,
   "metadata": {},
   "outputs": [],
   "source": [
    "# Save as a csv file\n",
    "DATA_N.to_csv(\"DATA_N_8_23_18.csv\")"
   ]
  },
  {
   "cell_type": "code",
   "execution_count": 12,
   "metadata": {},
   "outputs": [
    {
     "data": {
      "text/plain": [
       "(314136, 40)"
      ]
     },
     "execution_count": 12,
     "metadata": {},
     "output_type": "execute_result"
    }
   ],
   "source": [
    "DATA_N.shape"
   ]
  },
  {
   "cell_type": "markdown",
   "metadata": {},
   "source": [
    "Saving narrative-only data"
   ]
  },
  {
   "cell_type": "code",
   "execution_count": 33,
   "metadata": {},
   "outputs": [],
   "source": [
    "DATA_N=DATA[DATA.NARRATIVE.notnull()]\n",
    "DATA_N.to_csv(\"DATA_N_8_23_18.csv\")"
   ]
  },
  {
   "cell_type": "code",
   "execution_count": 13,
   "metadata": {},
   "outputs": [
    {
     "data": {
      "text/plain": [
       "369808    debt collector call numer time privat number c...\n",
       "369811    compani continu report credit report sent lett...\n",
       "369813    mail sever complaint differ address compani we...\n",
       "369817    reach howev never got respons unfortun victim ...\n",
       "369820    mel harri assoc use decept collect practic att...\n",
       "Name: NARRATIVE_CLEAN, dtype: object"
      ]
     },
     "execution_count": 13,
     "metadata": {},
     "output_type": "execute_result"
    }
   ],
   "source": [
    "DATA_N.NARRATIVE_CLEAN.head()"
   ]
  },
  {
   "cell_type": "code",
   "execution_count": 22,
   "metadata": {},
   "outputs": [
    {
     "data": {
      "text/plain": [
       "369808    [debt, collector, call, numer, time, privat, n...\n",
       "369811    [compani, continu, report, credit, report, sen...\n",
       "369813    [mail, sever, complaint, differ, address, comp...\n",
       "369817    [reach, howev, never, got, respons, unfortun, ...\n",
       "369820    [mel, harri, assoc, use, decept, collect, prac...\n",
       "Name: TOKENS, dtype: object"
      ]
     },
     "execution_count": 22,
     "metadata": {},
     "output_type": "execute_result"
    }
   ],
   "source": [
    "DATA_N[\"TOKENS\"].head()"
   ]
  },
  {
   "cell_type": "code",
   "execution_count": 15,
   "metadata": {},
   "outputs": [
    {
     "data": {
      "text/plain": [
       "list"
      ]
     },
     "execution_count": 15,
     "metadata": {},
     "output_type": "execute_result"
    }
   ],
   "source": [
    "type(DATA_N[\"TOKENS\"][369808])"
   ]
  },
  {
   "cell_type": "code",
   "execution_count": 22,
   "metadata": {},
   "outputs": [],
   "source": [
    "DATA.to_csv(\"DATA_7_7_18.csv\")"
   ]
  },
  {
   "cell_type": "code",
   "execution_count": 1,
   "metadata": {},
   "outputs": [
    {
     "data": {
      "application/javascript": [
       "IPython.notebook.set_autosave_interval(20000)"
      ]
     },
     "metadata": {},
     "output_type": "display_data"
    },
    {
     "name": "stdout",
     "output_type": "stream",
     "text": [
      "Autosaving every 20 seconds\n"
     ]
    },
    {
     "data": {
      "text/plain": [
       "(299516, 40)"
      ]
     },
     "execution_count": 1,
     "metadata": {},
     "output_type": "execute_result"
    }
   ],
   "source": [
    "%matplotlib inline\n",
    "%autosave 20\n",
    "import numpy as np\n",
    "import pandas as pd\n",
    "from scipy import stats\n",
    "import matplotlib.pyplot as plt\n",
    "import seaborn as sns\n",
    "from sklearn.svm import LinearSVC\n",
    "from sklearn.linear_model import LogisticRegression\n",
    "from xgboost import XGBClassifier\n",
    "import sklearn.metrics as metrics\n",
    "from sklearn.model_selection import cross_val_score\n",
    "from sklearn.externals import joblib\n",
    "from sklearn.feature_extraction.text import TfidfVectorizer\n",
    "from sklearn.feature_extraction.text import TfidfTransformer\n",
    "from sklearn.model_selection import train_test_split\n",
    "from sklearn.feature_extraction.text import CountVectorizer\n",
    "from sklearn.model_selection import train_test_split\n",
    "from sklearn.preprocessing import StandardScaler\n",
    "from sklearn.metrics import confusion_matrix\n",
    "\n",
    "DATA_N=pd.read_csv(\"DATA_N_7_7_18.csv\",low_memory=False)\n",
    "DATA_N=DATA_N.drop(\"Unnamed: 0\", axis=1)\n",
    "DATA_N.shape"
   ]
  },
  {
   "cell_type": "markdown",
   "metadata": {},
   "source": [
    "# Analysis"
   ]
  },
  {
   "cell_type": "code",
   "execution_count": 24,
   "metadata": {
    "scrolled": false
   },
   "outputs": [
    {
     "name": "stderr",
     "output_type": "stream",
     "text": [
      "C:\\Users\\Turgut\\Anaconda3\\lib\\site-packages\\ipykernel_launcher.py:1: SettingWithCopyWarning: \n",
      "A value is trying to be set on a copy of a slice from a DataFrame.\n",
      "Try using .loc[row_indexer,col_indexer] = value instead\n",
      "\n",
      "See the caveats in the documentation: http://pandas.pydata.org/pandas-docs/stable/indexing.html#indexing-view-versus-copy\n",
      "  \"\"\"Entry point for launching an IPython kernel.\n"
     ]
    },
    {
     "data": {
      "text/html": [
       "<div>\n",
       "<style scoped>\n",
       "    .dataframe tbody tr th:only-of-type {\n",
       "        vertical-align: middle;\n",
       "    }\n",
       "\n",
       "    .dataframe tbody tr th {\n",
       "        vertical-align: top;\n",
       "    }\n",
       "\n",
       "    .dataframe thead th {\n",
       "        text-align: right;\n",
       "    }\n",
       "</style>\n",
       "<table border=\"1\" class=\"dataframe\">\n",
       "  <thead>\n",
       "    <tr style=\"text-align: right;\">\n",
       "      <th></th>\n",
       "      <th>DATE</th>\n",
       "      <th>PRODUCT</th>\n",
       "      <th>SUB_PRODUCT</th>\n",
       "      <th>ISSUE</th>\n",
       "      <th>SUB_ISSUE</th>\n",
       "      <th>NARRATIVE</th>\n",
       "      <th>COMP_PUB_RESPONSE</th>\n",
       "      <th>Company</th>\n",
       "      <th>State</th>\n",
       "      <th>ZIP</th>\n",
       "      <th>...</th>\n",
       "      <th>SENTIMENT_BEFORE_LEM</th>\n",
       "      <th>SENTIMENT_BEFORE_LEM_P</th>\n",
       "      <th>SENTIMENT_BEFORE_LEM_S</th>\n",
       "      <th>TOKENS</th>\n",
       "      <th>WORD_COUNT</th>\n",
       "      <th>NUMERIC_COUNT</th>\n",
       "      <th>CHAR_COUNT</th>\n",
       "      <th>UPPER</th>\n",
       "      <th>EXCLAMATION_COUNT</th>\n",
       "      <th>category_id</th>\n",
       "    </tr>\n",
       "  </thead>\n",
       "  <tbody>\n",
       "    <tr>\n",
       "      <th>369808</th>\n",
       "      <td>2015-03-19</td>\n",
       "      <td>Debt collection</td>\n",
       "      <td>Payday loan</td>\n",
       "      <td>Taking/threatening an illegal action</td>\n",
       "      <td>Threatened arrest/jail if do not pay</td>\n",
       "      <td>This debt collector has called me numerous tim...</td>\n",
       "      <td>NaN</td>\n",
       "      <td>National Principal Group, LLC</td>\n",
       "      <td>FL</td>\n",
       "      <td>326XX</td>\n",
       "      <td>...</td>\n",
       "      <td>(-0.017857142857142856, 0.39732142857142855)</td>\n",
       "      <td>-0.017857</td>\n",
       "      <td>0.397321</td>\n",
       "      <td>[debt, collector, call, numer, time, privat, n...</td>\n",
       "      <td>45</td>\n",
       "      <td>1</td>\n",
       "      <td>265</td>\n",
       "      <td>3</td>\n",
       "      <td>0</td>\n",
       "      <td>0</td>\n",
       "    </tr>\n",
       "    <tr>\n",
       "      <th>369811</th>\n",
       "      <td>2015-03-19</td>\n",
       "      <td>Debt collection</td>\n",
       "      <td>I do not know</td>\n",
       "      <td>Cont'd attempts collect debt not owed</td>\n",
       "      <td>Debt is not mine</td>\n",
       "      <td>This company continues to report on my credit ...</td>\n",
       "      <td>NaN</td>\n",
       "      <td>Pinnacle Credit Services, LLC</td>\n",
       "      <td>TX</td>\n",
       "      <td>775XX</td>\n",
       "      <td>...</td>\n",
       "      <td>(0.0, 0.0)</td>\n",
       "      <td>0.000000</td>\n",
       "      <td>0.000000</td>\n",
       "      <td>[compani, continu, report, credit, report, sen...</td>\n",
       "      <td>41</td>\n",
       "      <td>0</td>\n",
       "      <td>262</td>\n",
       "      <td>28</td>\n",
       "      <td>4</td>\n",
       "      <td>0</td>\n",
       "    </tr>\n",
       "    <tr>\n",
       "      <th>369813</th>\n",
       "      <td>2015-03-19</td>\n",
       "      <td>Debt collection</td>\n",
       "      <td>I do not know</td>\n",
       "      <td>Cont'd attempts collect debt not owed</td>\n",
       "      <td>Debt is not mine</td>\n",
       "      <td>I mailed off several complaints to different a...</td>\n",
       "      <td>Company believes it acted appropriately as aut...</td>\n",
       "      <td>CONSUMER PORTFOLIO SERVICES, INC.</td>\n",
       "      <td>MD</td>\n",
       "      <td>20703</td>\n",
       "      <td>...</td>\n",
       "      <td>(-0.12999999999999998, 0.34)</td>\n",
       "      <td>-0.130000</td>\n",
       "      <td>0.340000</td>\n",
       "      <td>[mail, sever, complaint, differ, address, comp...</td>\n",
       "      <td>70</td>\n",
       "      <td>0</td>\n",
       "      <td>454</td>\n",
       "      <td>9</td>\n",
       "      <td>0</td>\n",
       "      <td>0</td>\n",
       "    </tr>\n",
       "    <tr>\n",
       "      <th>369817</th>\n",
       "      <td>2015-03-19</td>\n",
       "      <td>Debt collection</td>\n",
       "      <td>I do not know</td>\n",
       "      <td>Cont'd attempts collect debt not owed</td>\n",
       "      <td>Debt is not mine</td>\n",
       "      <td>Reached out to them however, never got a respo...</td>\n",
       "      <td>Company believes it acted appropriately as aut...</td>\n",
       "      <td>FC HoldCo LLC</td>\n",
       "      <td>MD</td>\n",
       "      <td>20703</td>\n",
       "      <td>...</td>\n",
       "      <td>(-0.21666666666666665, 0.3666666666666667)</td>\n",
       "      <td>-0.216667</td>\n",
       "      <td>0.366667</td>\n",
       "      <td>[reach, howev, never, got, respons, unfortun, ...</td>\n",
       "      <td>63</td>\n",
       "      <td>0</td>\n",
       "      <td>412</td>\n",
       "      <td>7</td>\n",
       "      <td>0</td>\n",
       "      <td>0</td>\n",
       "    </tr>\n",
       "    <tr>\n",
       "      <th>369820</th>\n",
       "      <td>2015-03-19</td>\n",
       "      <td>Credit card</td>\n",
       "      <td>NaN</td>\n",
       "      <td>Other</td>\n",
       "      <td>NaN</td>\n",
       "      <td>Mel S. Harris &amp; assoc. used deceptive collecti...</td>\n",
       "      <td>NaN</td>\n",
       "      <td>Mel S. Harris and Associates, LLC</td>\n",
       "      <td>NY</td>\n",
       "      <td>140XX</td>\n",
       "      <td>...</td>\n",
       "      <td>(0.12760416666666669, 0.37512019230769234)</td>\n",
       "      <td>0.127604</td>\n",
       "      <td>0.375120</td>\n",
       "      <td>[mel, harri, assoc, use, decept, collect, prac...</td>\n",
       "      <td>179</td>\n",
       "      <td>0</td>\n",
       "      <td>1130</td>\n",
       "      <td>19</td>\n",
       "      <td>1</td>\n",
       "      <td>1</td>\n",
       "    </tr>\n",
       "  </tbody>\n",
       "</table>\n",
       "<p>5 rows × 41 columns</p>\n",
       "</div>"
      ],
      "text/plain": [
       "              DATE          PRODUCT    SUB_PRODUCT  \\\n",
       "369808  2015-03-19  Debt collection    Payday loan   \n",
       "369811  2015-03-19  Debt collection  I do not know   \n",
       "369813  2015-03-19  Debt collection  I do not know   \n",
       "369817  2015-03-19  Debt collection  I do not know   \n",
       "369820  2015-03-19      Credit card            NaN   \n",
       "\n",
       "                                        ISSUE  \\\n",
       "369808   Taking/threatening an illegal action   \n",
       "369811  Cont'd attempts collect debt not owed   \n",
       "369813  Cont'd attempts collect debt not owed   \n",
       "369817  Cont'd attempts collect debt not owed   \n",
       "369820                                  Other   \n",
       "\n",
       "                                   SUB_ISSUE  \\\n",
       "369808  Threatened arrest/jail if do not pay   \n",
       "369811                      Debt is not mine   \n",
       "369813                      Debt is not mine   \n",
       "369817                      Debt is not mine   \n",
       "369820                                   NaN   \n",
       "\n",
       "                                                NARRATIVE  \\\n",
       "369808  This debt collector has called me numerous tim...   \n",
       "369811  This company continues to report on my credit ...   \n",
       "369813  I mailed off several complaints to different a...   \n",
       "369817  Reached out to them however, never got a respo...   \n",
       "369820  Mel S. Harris & assoc. used deceptive collecti...   \n",
       "\n",
       "                                        COMP_PUB_RESPONSE  \\\n",
       "369808                                                NaN   \n",
       "369811                                                NaN   \n",
       "369813  Company believes it acted appropriately as aut...   \n",
       "369817  Company believes it acted appropriately as aut...   \n",
       "369820                                                NaN   \n",
       "\n",
       "                                  Company State    ZIP     ...       \\\n",
       "369808      National Principal Group, LLC    FL  326XX     ...        \n",
       "369811      Pinnacle Credit Services, LLC    TX  775XX     ...        \n",
       "369813  CONSUMER PORTFOLIO SERVICES, INC.    MD  20703     ...        \n",
       "369817                      FC HoldCo LLC    MD  20703     ...        \n",
       "369820  Mel S. Harris and Associates, LLC    NY  140XX     ...        \n",
       "\n",
       "                                SENTIMENT_BEFORE_LEM SENTIMENT_BEFORE_LEM_P  \\\n",
       "369808  (-0.017857142857142856, 0.39732142857142855)              -0.017857   \n",
       "369811                                    (0.0, 0.0)               0.000000   \n",
       "369813                  (-0.12999999999999998, 0.34)              -0.130000   \n",
       "369817    (-0.21666666666666665, 0.3666666666666667)              -0.216667   \n",
       "369820    (0.12760416666666669, 0.37512019230769234)               0.127604   \n",
       "\n",
       "       SENTIMENT_BEFORE_LEM_S  \\\n",
       "369808               0.397321   \n",
       "369811               0.000000   \n",
       "369813               0.340000   \n",
       "369817               0.366667   \n",
       "369820               0.375120   \n",
       "\n",
       "                                                   TOKENS WORD_COUNT  \\\n",
       "369808  [debt, collector, call, numer, time, privat, n...         45   \n",
       "369811  [compani, continu, report, credit, report, sen...         41   \n",
       "369813  [mail, sever, complaint, differ, address, comp...         70   \n",
       "369817  [reach, howev, never, got, respons, unfortun, ...         63   \n",
       "369820  [mel, harri, assoc, use, decept, collect, prac...        179   \n",
       "\n",
       "       NUMERIC_COUNT CHAR_COUNT  UPPER  EXCLAMATION_COUNT  category_id  \n",
       "369808             1        265      3                  0            0  \n",
       "369811             0        262     28                  4            0  \n",
       "369813             0        454      9                  0            0  \n",
       "369817             0        412      7                  0            0  \n",
       "369820             0       1130     19                  1            1  \n",
       "\n",
       "[5 rows x 41 columns]"
      ]
     },
     "execution_count": 24,
     "metadata": {},
     "output_type": "execute_result"
    }
   ],
   "source": [
    "DATA_N['category_id'] = DATA_N['PRO_TYPE'].factorize()[0]\n",
    "category_id_df = DATA_N[['PRO_TYPE', 'category_id']].drop_duplicates().sort_values('category_id')\n",
    "category_to_id = dict(category_id_df.values)\n",
    "id_to_category = dict(category_id_df[['category_id', 'PRO_TYPE']].values)\n",
    "DATA_N.head()"
   ]
  },
  {
   "cell_type": "markdown",
   "metadata": {},
   "source": [
    "#Saving tokens, pandas convert evertying to string and when you reload your data later you have '[' character as a part of token. To avoid that, I load tokens I saved as part of joblib process then, attach it to the data frame."
   ]
  },
  {
   "cell_type": "code",
   "execution_count": 34,
   "metadata": {},
   "outputs": [
    {
     "data": {
      "text/plain": [
       "(314136, 1)"
      ]
     },
     "execution_count": 34,
     "metadata": {},
     "output_type": "execute_result"
    }
   ],
   "source": [
    "TOKEN = joblib.load(\"DATA_N_TOKENS.joblib\")\n",
    "TOKEN=pd.DataFrame(TOKEN)\n",
    "TOKEN=TOKEN.reset_index(drop=True)\n",
    "TOKEN.shape"
   ]
  },
  {
   "cell_type": "code",
   "execution_count": 17,
   "metadata": {},
   "outputs": [
    {
     "ename": "NameError",
     "evalue": "name 'TOKEN' is not defined",
     "output_type": "error",
     "traceback": [
      "\u001b[1;31m---------------------------------------------------------------------------\u001b[0m",
      "\u001b[1;31mNameError\u001b[0m                                 Traceback (most recent call last)",
      "\u001b[1;32m<ipython-input-17-fd3be7fa916d>\u001b[0m in \u001b[0;36m<module>\u001b[1;34m()\u001b[0m\n\u001b[1;32m----> 1\u001b[1;33m \u001b[0mTOKEN\u001b[0m\u001b[1;33m.\u001b[0m\u001b[0miloc\u001b[0m\u001b[1;33m[\u001b[0m\u001b[1;36m0\u001b[0m\u001b[1;33m,\u001b[0m\u001b[1;36m0\u001b[0m\u001b[1;33m]\u001b[0m\u001b[1;33m[\u001b[0m\u001b[1;36m0\u001b[0m\u001b[1;33m]\u001b[0m\u001b[1;33m\u001b[0m\u001b[0m\n\u001b[0m",
      "\u001b[1;31mNameError\u001b[0m: name 'TOKEN' is not defined"
     ]
    }
   ],
   "source": [
    "TOKEN.iloc[0,0][0]"
   ]
  },
  {
   "cell_type": "code",
   "execution_count": 36,
   "metadata": {},
   "outputs": [
    {
     "name": "stderr",
     "output_type": "stream",
     "text": [
      "C:\\Users\\Turgut\\Anaconda3\\lib\\site-packages\\pandas\\core\\generic.py:3643: SettingWithCopyWarning: \n",
      "A value is trying to be set on a copy of a slice from a DataFrame.\n",
      "Try using .loc[row_indexer,col_indexer] = value instead\n",
      "\n",
      "See the caveats in the documentation: http://pandas.pydata.org/pandas-docs/stable/indexing.html#indexing-view-versus-copy\n",
      "  self[name] = value\n"
     ]
    }
   ],
   "source": [
    "DATA_N.TOKENS=TOKEN"
   ]
  },
  {
   "cell_type": "code",
   "execution_count": 18,
   "metadata": {},
   "outputs": [
    {
     "data": {
      "text/plain": [
       "369808     [debt, collector, call, numer, time, privat, n...\n",
       "369811     [compani, continu, report, credit, report, sen...\n",
       "369813     [mail, sever, complaint, differ, address, comp...\n",
       "369817     [reach, howev, never, got, respons, unfortun, ...\n",
       "369820     [mel, harri, assoc, use, decept, collect, prac...\n",
       "369827     [receiv, letter, pioneer, credit, recoveri, cl...\n",
       "369832     [credit, card, account, holder, chase, card, c...\n",
       "369838     [fell, behind, payment, back, follow, realli, ...\n",
       "369839                                  [item, report, fals]\n",
       "369842     [appli, extra, loan, payment, princip, balanc,...\n",
       "369846     [compani, call, human, resourc, person, work, ...\n",
       "369848     [approv, trial, modif, select, portfolio, serv...\n",
       "369860     [receiv, letter, dynam, recoveri, today, conce...\n",
       "369867     [recent, close, paid, citizen, bank, credit, c...\n",
       "369870     [late, earli, receiv, sever, voic, messag, ema...\n",
       "369871     [made, payment, loan, appli, financ, charg, pr...\n",
       "369874     [appli, credit, card, accept, usaa, sent, welc...\n",
       "369877     [open, current, mortgag, chase, bank, chase, r...\n",
       "369878     [took, person, loan, name, alon, tower, loan, ...\n",
       "369879     [behind, loan, call, two, month, ago, get, set...\n",
       "369881     [open, bank, america, credit, card, year, ago,...\n",
       "369884     [carrington, mortgag, servic, research, dpt, n...\n",
       "369889     [receiv, phone, call, today, robodial, return,...\n",
       "369890     [abl, obtain, refund, amazon, credit, card, ja...\n",
       "369893     [car, loan, paid, report, paid, princip, dispu...\n",
       "369898               [owe, compani, money, fact, owe, money]\n",
       "369899     [appli, loan, purchas, vehicl, month, told, wo...\n",
       "369903     [homesit, home, owner, in, year, mortgag, comp...\n",
       "369908     [home, parcel, land, first, year, live, home, ...\n",
       "369912     [mortgag, home, assign, loan, bank, transfer, ...\n",
       "                                 ...                        \n",
       "1102492    [check, websit, account, determin, neg, credit...\n",
       "1102523    [disput, follow, collect, account, process, di...\n",
       "1102559    [file, numer, compliant, compani, tri, collect...\n",
       "1102584    [disput, follow, collect, account, transunion,...\n",
       "1102621    [compani, left, voicemail, wife, phone, threat...\n",
       "1102645    [letter, remov, inaccur, credit, inform, may, ...\n",
       "1102662    [simpl, use, card, busi, transact, ship, damag...\n",
       "1102698    [sent, two, certifi, return, receipt, letter, ...\n",
       "1102704    [attempt, negoti, settlement, time, time, call...\n",
       "1102724    [includ, part, monthli, mortgag, payment, home...\n",
       "1102753    [contact, experian, regard, tradelin, report, ...\n",
       "1102802    [sent, email, state, longer, serv, account, ca...\n",
       "1102804    [initi, system, complaint, unauthor, hard, inq...\n",
       "1102809    [bank, bbt, cancel, credit, card, use, mani, y...\n",
       "1102839    [attempt, purchas, ticket, open, account, well...\n",
       "1102863    [disput, follow, collect, account, process, di...\n",
       "1102915    [credit, collect, partner, illinoi, call, phon...\n",
       "1102921    [would, like, item, remov, credit, report, vic...\n",
       "1102956    [ive, attempt, numer, time, disput, incorrect,...\n",
       "1102985    [ive, attempt, numer, time, disput, incorrect,...\n",
       "1103000            [experian, report, follow, inquiri, sign]\n",
       "1103001          [transunion, report, follow, inquiri, sign]\n",
       "1103013    [hunterwarfield, assign, miss, flex, pay, went...\n",
       "1103063    [reag, old, debt, illeg, accord, frca, disput,...\n",
       "1103064    [may, concern, shock, review, credit, report, ...\n",
       "1103075    [origin, credit, card, account, delet, remov, ...\n",
       "1103099    [recent, appli, credit, told, neg, collect, cr...\n",
       "1103159    [recent, appli, credit, told, neg, collect, cr...\n",
       "1103191    [colleg, time, tri, get, back, colleg, tri, ap...\n",
       "1103212    [state, credit, report, owe, account, owe, amo...\n",
       "Name: TOKENS, Length: 314136, dtype: object"
      ]
     },
     "execution_count": 18,
     "metadata": {},
     "output_type": "execute_result"
    }
   ],
   "source": [
    "DATA_N.TOKENS"
   ]
  },
  {
   "cell_type": "code",
   "execution_count": 21,
   "metadata": {},
   "outputs": [
    {
     "data": {
      "text/plain": [
       "'debt'"
      ]
     },
     "execution_count": 21,
     "metadata": {},
     "output_type": "execute_result"
    }
   ],
   "source": [
    "DATA_N.loc[369808,'TOKENS'][0]"
   ]
  },
  {
   "cell_type": "markdown",
   "metadata": {},
   "source": [
    "# Vectorization"
   ]
  },
  {
   "cell_type": "code",
   "execution_count": 25,
   "metadata": {},
   "outputs": [
    {
     "data": {
      "text/plain": [
       "(314136, 5000)"
      ]
     },
     "execution_count": 25,
     "metadata": {},
     "output_type": "execute_result"
    }
   ],
   "source": [
    "from sklearn.feature_extraction.text import TfidfVectorizer\n",
    "tfidf = TfidfVectorizer(sublinear_tf=True, min_df=5, norm='l2', lowercase=False, max_features=5000,\n",
    "        preprocessor=' '.join, encoding='latin-1', ngram_range=(1, 2), stop_words='english')\n",
    "features = tfidf.fit_transform(DATA_N.TOKENS).toarray()\n",
    "labels = DATA_N.category_id\n",
    "features.shape"
   ]
  },
  {
   "cell_type": "code",
   "execution_count": 27,
   "metadata": {},
   "outputs": [],
   "source": [
    "from sklearn.model_selection import train_test_split\n",
    "X_train, X_test, y_train, y_test, indices_train, indices_test = train_test_split(features, labels, DATA_N.index,  random_state=0)"
   ]
  },
  {
   "cell_type": "code",
   "execution_count": 12,
   "metadata": {},
   "outputs": [
    {
     "name": "stdout",
     "output_type": "stream",
     "text": [
      "Train Accuracy: 0.8670699840186612\n",
      "Test Accuracy: 0.8547790435235513\n"
     ]
    }
   ],
   "source": [
    "logreg = LogisticRegression()\n",
    "logreg.fit(X_train, y_train)\n",
    "y_hat_train_log = logreg.predict(X_train)\n",
    "print( \"Train Accuracy:\",(metrics.accuracy_score(y_train, y_hat_train_log)))\n",
    "\n",
    "y_hat_test_log = logreg.predict(X_test)\n",
    "print( 'Test Accuracy:',(metrics.accuracy_score(y_test, y_hat_test_log)))"
   ]
  },
  {
   "cell_type": "code",
   "execution_count": 28,
   "metadata": {},
   "outputs": [
    {
     "name": "stdout",
     "output_type": "stream",
     "text": [
      "Train Accuracy: 0.8727302824254463\n",
      "Test Accuracy: 0.8534265413706166\n"
     ]
    }
   ],
   "source": [
    "SVC = LinearSVC()\n",
    "SVC.fit(X_train, y_train)\n",
    "y_hat_train_SVC = SVC.predict(X_train)\n",
    "print( \"Train Accuracy:\",(metrics.accuracy_score(y_train, y_hat_train_SVC)))\n",
    "y_hat_test_SVC = SVC.predict(X_test)\n",
    "print( 'Test Accuracy:',(metrics.accuracy_score(y_test, y_hat_test_SVC)))"
   ]
  },
  {
   "cell_type": "code",
   "execution_count": 29,
   "metadata": {},
   "outputs": [
    {
     "data": {
      "image/png": "[encoded data removed]",
      "text/plain": [
       "<matplotlib.figure.Figure at 0x16e3b169470>"
      ]
     },
     "metadata": {},
     "output_type": "display_data"
    }
   ],
   "source": [
    "from sklearn.metrics import confusion_matrix\n",
    "conf_mat = confusion_matrix(y_test, y_hat_test_SVC)\n",
    "fig, ax = plt.subplots(figsize=(10,10))\n",
    "sns.heatmap(conf_mat, annot=True, fmt='d',\n",
    "            #xticklabels=category_id_df.Product.values, yticklabels=category_id_df.Product.values\n",
    "           )\n",
    "plt.ylabel('Actual')\n",
    "plt.xlabel('Predicted')\n",
    "plt.show()"
   ]
  },
  {
   "cell_type": "code",
   "execution_count": 30,
   "metadata": {},
   "outputs": [
    {
     "name": "stdout",
     "output_type": "stream",
     "text": [
      "                 precision    recall  f1-score   support\n",
      "\n",
      "DEBT_COLLECTION       0.83      0.84      0.83     17833\n",
      "   CARD_RELATED       0.81      0.81      0.81      8619\n",
      "       MORTGAGE       0.92      0.94      0.93     11929\n",
      "   LOAN_RELATED       0.83      0.78      0.80      9139\n",
      "  CREDIT_REPORT       0.86      0.86      0.86     23720\n",
      "SERVICE_RELATED       0.86      0.86      0.86      7294\n",
      "\n",
      "    avg / total       0.85      0.85      0.85     78534\n",
      "\n"
     ]
    }
   ],
   "source": [
    "from sklearn import metrics\n",
    "print(metrics.classification_report(y_test, y_hat_test_SVC, target_names=DATA_N['PRO_TYPE'].unique()))"
   ]
  },
  {
   "cell_type": "code",
   "execution_count": 11,
   "metadata": {},
   "outputs": [],
   "source": [
    "%xdel TOKEN"
   ]
  },
  {
   "cell_type": "code",
   "execution_count": 12,
   "metadata": {},
   "outputs": [
    {
     "data": {
      "text/plain": [
       "[('features', 11980640112),\n",
       " ('X_train', 8985480112),\n",
       " ('X_test', 2995160112),\n",
       " ('DATA_N', 1204361736),\n",
       " ('y_train', 3594216),\n",
       " ('labels', 2396232),\n",
       " ('indices_train', 1797120),\n",
       " ('y_test', 1198088),\n",
       " ('indices_test', 599056),\n",
       " ('TfidfVectorizer', 1464),\n",
       " ('CountVectorizer', 1056),\n",
       " ('LinearSVC', 1056),\n",
       " ('LogisticRegression', 1056),\n",
       " ('StandardScaler', 1056),\n",
       " ('TfidfTransformer', 1056),\n",
       " ('XGBClassifier', 1056),\n",
       " ('category_id_df', 537),\n",
       " ('category_to_id', 368),\n",
       " ('id_to_category', 368),\n",
       " ('confusion_matrix', 136),\n",
       " ('cross_val_score', 136),\n",
       " ('train_test_split', 136),\n",
       " ('metrics', 80),\n",
       " ('np', 80),\n",
       " ('pd', 80),\n",
       " ('plt', 80),\n",
       " ('sns', 80),\n",
       " ('stats', 80),\n",
       " ('tfidf', 56)]"
      ]
     },
     "execution_count": 12,
     "metadata": {},
     "output_type": "execute_result"
    }
   ],
   "source": [
    "import sys\n",
    "\n",
    "# These are the usual ipython objects, including this one you are creating\n",
    "ipython_vars = ['In', 'Out', 'exit', 'quit', 'get_ipython', 'ipython_vars']\n",
    "\n",
    "# Get a sorted list of the objects and their sizes\n",
    "sorted([(x, sys.getsizeof(globals().get(x))) for x in dir() if not x.startswith('_') and x not in sys.modules and x not in ipython_vars], key=lambda x: x[1], reverse=True)"
   ]
  },
  {
   "cell_type": "code",
   "execution_count": null,
   "metadata": {},
   "outputs": [],
   "source": []
  },
  {
   "cell_type": "code",
   "execution_count": null,
   "metadata": {},
   "outputs": [],
   "source": []
  }
 ],
 "metadata": {
  "kernelspec": {
   "display_name": "Python 3",
   "language": "python",
   "name": "python3"
  },
  "language_info": {
   "codemirror_mode": {
    "name": "ipython",
    "version": 3
   },
   "file_extension": ".py",
   "mimetype": "text/x-python",
   "name": "python",
   "nbconvert_exporter": "python",
   "pygments_lexer": "ipython3",
   "version": "3.6.4"
  }
 },
 "nbformat": 4,
 "nbformat_minor": 2
}
